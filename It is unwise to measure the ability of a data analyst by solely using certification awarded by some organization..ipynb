{
 "cells": [
  {
   "cell_type": "markdown",
   "id": "4aac3d4f",
   "metadata": {},
   "source": [
    "It is unwise to measure the ability of a data analyst by solely using certification awarded by some organization.\n",
    "This is just my own humble view point.\n",
    "\n",
    "There are some points that supports my claim\n",
    "\n",
    "The latency between front line knowledge used in daily operation and the exam designed by the organization like schools or other types of organization.\n",
    "The main reason behind this latency is that such organization doesn't meet the problems faced in each industry, or each field.\n",
    "I have been working on data analysis works like sales planning, SCM planning for several years, I know that in everyday there would be new problems generated, and there are problems have been fixed.\n",
    "Because that once a company resolve a problem, they will be benefited directly, so they have motivation to solve it.\n",
    "While, for education org or other certification award group, they really don't have this motivation behind them, so the exam they provided is too basic and outdated, as far as the exam that I attended, it is like this.\n",
    "\n",
    "The subject structured by education organization doesn't fit my expectation\n",
    "I think this is a general problem can be applied to everyone.\n",
    "Take myself as example, I would not consider myself as an expert in some field, but I can say that I am a useful person, because I have been learning on everyday basis, and applying the knowledge I learned to solve problems\n",
    "My interest is really wide, for example:\n",
    "* a. Economic of money and banking\n",
    "* b. Finance\n",
    "* c. Accounting\n",
    "* c. Data analytic techniques\n",
    "* d. Statistics\n",
    "* e. Machine learning\n",
    "* f. History\n",
    "* g. Mathematics\n",
    "…\n",
    "I would periodically learn each of the subject, and I can get lots of insights from the interdiscipline created by myself. And I am sure that my data analytic skills were created with the help from all of above subjects.\n",
    "Honestly, I can't give up any of above subject, any of them contributes a lot to myself.\n",
    "While, I don't think any organization can offer a exam/certification can cover all the subjects above.\n",
    "\n",
    "Memorize a thing can help you to pass an exam, but it is not the key for you to finish a paper.\n",
    "Human has limited memory, you memorized one article when you were in elementary school, you probably would forget now, but without memorizing that article, probably you can't pass the exam in elementary school.\n",
    "You can't say that a PhD doesn't deserve his/her degree because that he/she can't memorize the article they learned long time ago.\n",
    "From my viewpoint, the most valuable thing for a researcher is what they contribute, and this contribution is created from all the resources that they can use, instead of their own human brain!\n",
    "While in an exam, all the thing you have is your brain, maybe one more calculator.\n",
    "\n",
    "Actually I would like to apply this statement to all the fields, but I don't have much understanding of other career, so let me limit it as only applying for data analytics.\n",
    "At least today there is common sense that you won't measure a developer's ability by the certification they hold in their hand.\n",
    "Like the saying, \"Talk is cheap, show me your code\"."
   ]
  }
 ],
 "metadata": {
  "kernelspec": {
   "display_name": "Python 3 (ipykernel)",
   "language": "python",
   "name": "python3"
  },
  "language_info": {
   "codemirror_mode": {
    "name": "ipython",
    "version": 3
   },
   "file_extension": ".py",
   "mimetype": "text/x-python",
   "name": "python",
   "nbconvert_exporter": "python",
   "pygments_lexer": "ipython3",
   "version": "3.9.7"
  }
 },
 "nbformat": 4,
 "nbformat_minor": 5
}
